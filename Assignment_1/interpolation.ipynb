{
 "cells": [
  {
   "cell_type": "code",
   "id": "initial_id",
   "metadata": {
    "collapsed": true,
    "ExecuteTime": {
     "end_time": "2024-09-26T17:41:05.267063Z",
     "start_time": "2024-09-26T17:41:05.261236Z"
    }
   },
   "source": [
    "import math\n",
    "\n",
    "def BilinearInterpolation(image, x, y):\n",
    "    # Get the dimensions of the image\n",
    "    width = len(image[0])  # Number of columns\n",
    "    height = len(image)    # Number of rows\n",
    "\n",
    "    # Determine the integer coordinates of the surrounding pixels\n",
    "    x1 = math.floor(x)\n",
    "    x2 = math.ceil(x)\n",
    "    y1 = math.floor(y)\n",
    "    y2 = math.ceil(y)\n",
    "\n",
    "    # Check for boundary conditions\n",
    "    if x1 < 0 or x2 >= width or y1 < 0 or y2 >= height:\n",
    "        return \"Out of bounds\"\n",
    "\n",
    "    # Get the values of the surrounding pixels\n",
    "    Q11 = image[y1][x1]  # Top-left pixel\n",
    "    Q21 = image[y1][x2]  # Top-right pixel\n",
    "    Q12 = image[y2][x1]  # Bottom-left pixel\n",
    "    Q22 = image[y2][x2]  # Bottom-right pixel\n",
    "\n",
    "    # Calculate the distances from the surrounding pixels to (x, y)\n",
    "    dx = x - x1\n",
    "    dy = y - y1\n",
    "\n",
    "    # Apply bilinear interpolation formula\n",
    "    P = (Q11 * (1 - dx) * (1 - dy) +\n",
    "         Q21 * dx * (1 - dy) +\n",
    "         Q12 * (1 - dx) * dy +\n",
    "         Q22 * dx * dy)\n",
    "\n",
    "    return P  # The interpolated pixel value\n",
    "\n",
    "# sample image\n",
    "image = [\n",
    "    [100, 150, 200, 250],\n",
    "    [120, 170, 220, 270],\n",
    "    [140, 190, 240, 290],\n",
    "    [160, 210, 260, 310]\n",
    "]\n",
    "\n",
    "# Interpolating at position (1.5, 1.5)\n",
    "x = 1.5\n",
    "y = 1.5\n",
    "result = BilinearInterpolation(image, x, y)\n",
    "print(\"Interpolated value:\", result)"
   ],
   "outputs": [
    {
     "name": "stdout",
     "output_type": "stream",
     "text": [
      "Interpolated value: 205.0\n"
     ]
    }
   ],
   "execution_count": 1
  },
  {
   "metadata": {},
   "cell_type": "code",
   "outputs": [],
   "execution_count": null,
   "source": "",
   "id": "447e6995ae5a4810"
  }
 ],
 "metadata": {
  "kernelspec": {
   "display_name": "Python 3",
   "language": "python",
   "name": "python3"
  },
  "language_info": {
   "codemirror_mode": {
    "name": "ipython",
    "version": 2
   },
   "file_extension": ".py",
   "mimetype": "text/x-python",
   "name": "python",
   "nbconvert_exporter": "python",
   "pygments_lexer": "ipython2",
   "version": "2.7.6"
  }
 },
 "nbformat": 4,
 "nbformat_minor": 5
}
