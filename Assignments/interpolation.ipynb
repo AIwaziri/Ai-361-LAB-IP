{
 "cells": [
  {
   "cell_type": "code",
   "id": "initial_id",
   "metadata": {
    "collapsed": true,
    "ExecuteTime": {
     "end_time": "2024-09-20T14:35:11.331480Z",
     "start_time": "2024-09-20T14:35:11.248509Z"
    }
   },
   "source": [
    "import numpy as np\n",
    "\n",
    "def bilinear_interpolation(image, x, y):\n",
    "    # Get the dimensions of the image\n",
    "    height, width = image.shape[:2]\n",
    "\n",
    "    # Determine the integer coordinates of the surrounding pixels\n",
    "    x1, x2 = int(np.floor(x)), int(np.ceil(x))\n",
    "    y1, y2 = int(np.floor(y)), int(np.ceil(y))\n",
    "\n",
    "    # Check for boundary conditions\n",
    "    if x1 < 0 or x2 >= width or y1 < 0 or y2 >= height:\n",
    "        return \"Out of bounds\"\n",
    "\n",
    "    # Handle RGB images\n",
    "    if image.ndim == 3:  # Check if the image has 3 channels (RGB)\n",
    "        # Retrieve RGB values for surrounding pixels\n",
    "        Q11 = image[y1, x1]\n",
    "        Q21 = image[y1, x2]\n",
    "        Q12 = image[y2, x1]\n",
    "        Q22 = image[y2, x2]\n",
    "\n",
    "        # Calculate weights\n",
    "        dx = x - x1\n",
    "        dy = y - y1\n",
    "\n",
    "        # Interpolate for each channel\n",
    "        R = interpolate(Q11[0], Q21[0], Q12[0], Q22[0], dx, dy)\n",
    "        G = interpolate(Q11[1], Q21[1], Q12[1], Q22[1], dx, dy)\n",
    "        B = interpolate(Q11[2], Q21[2], Q12[2], Q22[2], dx, dy)\n",
    "\n",
    "        return np.array([R, G, B])  # Return the interpolated RGB value\n",
    "\n",
    "    else:  # Handle grayscale image\n",
    "        Q11 = image[y1, x1]\n",
    "        Q21 = image[y1, x2]\n",
    "        Q12 = image[y2, x1]\n",
    "        Q22 = image[y2, x2]\n",
    "\n",
    "        # Calculate weights\n",
    "        dx = x - x1\n",
    "        dy = y - y1\n",
    "\n",
    "        # Apply bilinear interpolation formula\n",
    "        P = (Q11 * (1 - dx) * (1 - dy) +\n",
    "             Q21 * dx * (1 - dy) +\n",
    "             Q12 * (1 - dx) * dy +\n",
    "             Q22 * dx * dy)\n",
    "\n",
    "        return P  # Return the interpolated grayscale value\n",
    "\n",
    "def interpolate(Q11, Q21, Q12, Q22, dx, dy):\n",
    "    return (Q11 * (1 - dx) * (1 - dy) +\n",
    "            Q21 * dx * (1 - dy) +\n",
    "            Q12 * (1 - dx) * dy +\n",
    "            Q22 * dx * dy)\n",
    "\n",
    "# Example usage\n",
    "if __name__ == \"__main__\":\n",
    "    # Create a sample grayscale image (5x5)\n",
    "    grayscale_image = np.array([[10, 20, 30, 40, 50],\n",
    "                                 [60, 70, 80, 90, 100],\n",
    "                                 [110, 120, 130, 140, 150],\n",
    "                                 [160, 170, 180, 190, 200],\n",
    "                                 [210, 220, 230, 240, 250]], dtype=np.float32)\n",
    "\n",
    "    # Create a sample RGB image (5x5)\n",
    "    rgb_image = np.array([[[10, 20, 30], [40, 50, 60], [70, 80, 90], [100, 110, 120], [130, 140, 150]],\n",
    "                          [[160, 170, 180], [190, 200, 210], [220, 230, 240], [250, 255, 0], [5, 10, 15]],\n",
    "                          [[20, 25, 30], [35, 40, 45], [50, 55, 60], [65, 70, 75], [80, 85, 90]],\n",
    "                          [[95, 100, 105], [110, 115, 120], [125, 130, 135], [140, 145, 150], [155, 160, 165]],\n",
    "                          [[170, 175, 180], [185, 190, 195], [200, 205, 210], [215, 220, 225], [230, 235, 240]]], dtype=np.float32)\n",
    "\n",
    "    # Interpolate a value from the grayscale image\n",
    "    result_gray = bilinear_interpolation(grayscale_image, 2.3, 1.7)\n",
    "    print(\"Interpolated grayscale value:\", result_gray)\n",
    "\n",
    "    # Interpolate a value from the RGB image\n",
    "    result_rgb = bilinear_interpolation(rgb_image, 2.3, 1.7)\n",
    "    print(\"Interpolated RGB value:\", result_rgb)"
   ],
   "outputs": [
    {
     "name": "stdout",
     "output_type": "stream",
     "text": [
      "Interpolated grayscale value: 118.0\n",
      "Interpolated RGB value: [106.85 112.9   95.55]\n"
     ]
    }
   ],
   "execution_count": 1
  },
  {
   "metadata": {},
   "cell_type": "code",
   "outputs": [],
   "execution_count": null,
   "source": "",
   "id": "405133c74ffc5954"
  }
 ],
 "metadata": {
  "kernelspec": {
   "display_name": "Python 3",
   "language": "python",
   "name": "python3"
  },
  "language_info": {
   "codemirror_mode": {
    "name": "ipython",
    "version": 2
   },
   "file_extension": ".py",
   "mimetype": "text/x-python",
   "name": "python",
   "nbconvert_exporter": "python",
   "pygments_lexer": "ipython2",
   "version": "2.7.6"
  }
 },
 "nbformat": 4,
 "nbformat_minor": 5
}
